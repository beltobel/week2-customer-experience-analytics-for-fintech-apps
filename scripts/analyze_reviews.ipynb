{
 "cells": [
  {
   "cell_type": "code",
   "execution_count": 1,
   "id": "28d5a71a",
   "metadata": {},
   "outputs": [
    {
     "name": "stderr",
     "output_type": "stream",
     "text": [
      "C:\\Users\\belet\\AppData\\Roaming\\Python\\Python313\\site-packages\\tqdm\\auto.py:21: TqdmWarning: IProgress not found. Please update jupyter and ipywidgets. See https://ipywidgets.readthedocs.io/en/stable/user_install.html\n",
      "  from .autonotebook import tqdm as notebook_tqdm\n"
     ]
    }
   ],
   "source": [
    "import pandas as pd\n",
    "import spacy\n",
    "from transformers import pipeline\n",
    "import nltk\n",
    "from nltk.corpus import stopwords\n",
    "from collections import Counter\n",
    "import os"
   ]
  },
  {
   "cell_type": "code",
   "execution_count": null,
   "id": "ba209f57",
   "metadata": {},
   "outputs": [
    {
     "name": "stderr",
     "output_type": "stream",
     "text": [
      "[nltk_data] Downloading package stopwords to\n",
      "[nltk_data]     C:\\Users\\belet\\AppData\\Roaming\\nltk_data...\n",
      "[nltk_data]   Unzipping corpora\\stopwords.zip.\n"
     ]
    }
   ],
   "source": [
    "# Download NLTK stopwords\n",
    "nltk.download('stopwords')\n"
   ]
  },
  {
   "cell_type": "code",
   "execution_count": 2,
   "id": "bb97dfae",
   "metadata": {},
   "outputs": [],
   "source": [
    "\n",
    "stop_words = set(stopwords.words('english'))"
   ]
  },
  {
   "cell_type": "code",
   "execution_count": 7,
   "id": "660eb7ef",
   "metadata": {},
   "outputs": [
    {
     "name": "stdout",
     "output_type": "stream",
     "text": [
      "\u001b[38;5;2m✔ Download and installation successful\u001b[0m\n",
      "You can now load the package via spacy.load('en_core_web_sm')\n",
      "\u001b[38;5;3m⚠ Restart to reload dependencies\u001b[0m\n",
      "If you are in a Jupyter or Colab notebook, you may need to restart Python in\n",
      "order to load all the package's dependencies. You can do this by selecting the\n",
      "'Restart kernel' or 'Restart runtime' option.\n"
     ]
    }
   ],
   "source": [
    "spacy.cli.download(\"en_core_web_sm\")"
   ]
  },
  {
   "cell_type": "code",
   "execution_count": 3,
   "id": "f800193b",
   "metadata": {},
   "outputs": [],
   "source": [
    "# Download and load spaCy model\n",
    "nlp = spacy.load('en_core_web_sm')"
   ]
  },
  {
   "cell_type": "code",
   "execution_count": 4,
   "id": "299a9296",
   "metadata": {},
   "outputs": [
    {
     "name": "stderr",
     "output_type": "stream",
     "text": [
      "C:\\Users\\belet\\AppData\\Roaming\\Python\\Python313\\site-packages\\huggingface_hub\\file_download.py:143: UserWarning: `huggingface_hub` cache-system uses symlinks by default to efficiently store duplicated files but your machine does not support them in C:\\Users\\belet\\.cache\\huggingface\\hub\\models--distilbert-base-uncased-finetuned-sst-2-english. Caching files will still work but in a degraded version that might require more space on your disk. This warning can be disabled by setting the `HF_HUB_DISABLE_SYMLINKS_WARNING` environment variable. For more details, see https://huggingface.co/docs/huggingface_hub/how-to-cache#limitations.\n",
      "To support symlinks on Windows, you either need to activate Developer Mode or to run Python as an administrator. In order to activate developer mode, see this article: https://docs.microsoft.com/en-us/windows/apps/get-started/enable-your-device-for-development\n",
      "  warnings.warn(message)\n",
      "Device set to use cpu\n"
     ]
    }
   ],
   "source": [
    "# Load sentiment analysis model\n",
    "sentiment_analyzer = pipeline('sentiment-analysis', model='distilbert-base-uncased-finetuned-sst-2-english')"
   ]
  },
  {
   "cell_type": "code",
   "execution_count": 5,
   "id": "9cedcacf",
   "metadata": {},
   "outputs": [],
   "source": [
    "# Load reviews\n",
    "df_reviews = pd.read_csv('data/bank_reviews.csv')"
   ]
  },
  {
   "cell_type": "code",
   "execution_count": 6,
   "id": "a4dbda41",
   "metadata": {},
   "outputs": [],
   "source": [
    "\n",
    "# Sentiment analysis\n",
    "def get_sentiment(text):\n",
    "    try:\n",
    "        result = sentiment_analyzer(text[:512])[0]  # Truncate to 512 tokens\n",
    "        label = result['label']\n",
    "        # score = result['score']\n",
    "        return label, score\n",
    "    except:\n",
    "        return 'NEUTRAL', 0.0"
   ]
  },
  {
   "cell_type": "code",
   "execution_count": 7,
   "id": "1d575fa7",
   "metadata": {},
   "outputs": [],
   "source": [
    "\n",
    "df_reviews[['sentiment_label', 'sentiment_score']] = df_reviews['review'].apply(get_sentiment).apply(pd.Series)\n",
    "\n",
    "# Thematic analysis\n",
    "def extract_keywords(text):\n",
    "    doc = nlp(text.lower())\n",
    "    tokens = [token.lemma_ for token in doc if token.is_alpha and token.text not in stop_words]\n",
    "    return tokens"
   ]
  },
  {
   "cell_type": "code",
   "execution_count": 8,
   "id": "0acaf970",
   "metadata": {},
   "outputs": [],
   "source": [
    "\n",
    "df_reviews[['sentiment_label', 'sentiment_score']] = df_reviews['review'].apply(get_sentiment).apply(pd.Series)\n",
    "\n",
    "# Thematic analysis\n",
    "def extract_keywords(text):\n",
    "    doc = nlp(text.lower())\n",
    "    tokens = [token.lemma_ for token in doc if token.is_alpha and token.text not in stop_words]\n",
    "    return tokens"
   ]
  },
  {
   "cell_type": "code",
   "execution_count": 10,
   "id": "218ee2a1",
   "metadata": {},
   "outputs": [
    {
     "name": "stdout",
     "output_type": "stream",
     "text": [
      "                                 review_id  \\\n",
      "0     08d41b8d-c5f5-4ca9-9287-9ae8294cf0e6   \n",
      "1     747a0d8f-7f36-41ca-b377-f9f687ac2eec   \n",
      "2     64b198ae-91c6-40d4-ba3c-229f97e01c98   \n",
      "3     828c5fcd-f084-4e57-ad56-201735b8e413   \n",
      "4     46f43687-fa3d-434f-98c1-383d691a4223   \n",
      "...                                    ...   \n",
      "1180  121f30ef-0f05-4695-a424-5b2ffbdf1483   \n",
      "1181  dea35742-2646-4ac9-98c0-c4fa4c509da9   \n",
      "1182  d5a42e90-cd0f-4276-b8f8-d17b6a5d9eb1   \n",
      "1183  4818ccd5-f8fa-44d0-a9b7-adcd7ad55d28   \n",
      "1184  58f9de7f-6855-4e78-aa65-e7a01ff565a9   \n",
      "\n",
      "                                                 review  rating        date  \\\n",
      "0     \"Why don’t your ATMs support account-to-accoun...       4  2025-06-06   \n",
      "1                           what is this app problem???       1  2025-06-05   \n",
      "2          the app is proactive and a good connections.       5  2025-06-05   \n",
      "3       I cannot send to cbebirr app. through this app.       3  2025-06-05   \n",
      "4                                                  good       4  2025-06-05   \n",
      "...                                                 ...     ...         ...   \n",
      "1180  It has a Good performance but need more upgrad...       4  2025-01-17   \n",
      "1181  It is a very wonderful work that has saved its...       5  2025-01-17   \n",
      "1182  “Life-changing!” I can’t imagine going back to...       5  2025-01-17   \n",
      "1183                                            Pro max       5  2025-01-17   \n",
      "1184                         The most good app and easy       5  2025-01-16   \n",
      "\n",
      "        bank       source sentiment_label  sentiment_score  \n",
      "0        CBE  Google Play         NEUTRAL              0.0  \n",
      "1        CBE  Google Play         NEUTRAL              0.0  \n",
      "2        CBE  Google Play         NEUTRAL              0.0  \n",
      "3        CBE  Google Play         NEUTRAL              0.0  \n",
      "4        CBE  Google Play         NEUTRAL              0.0  \n",
      "...      ...          ...             ...              ...  \n",
      "1180  Dashen  Google Play         NEUTRAL              0.0  \n",
      "1181  Dashen  Google Play         NEUTRAL              0.0  \n",
      "1182  Dashen  Google Play         NEUTRAL              0.0  \n",
      "1183  Dashen  Google Play         NEUTRAL              0.0  \n",
      "1184  Dashen  Google Play         NEUTRAL              0.0  \n",
      "\n",
      "[1185 rows x 8 columns]\n"
     ]
    }
   ],
   "source": [
    "print(df_reviews)"
   ]
  },
  {
   "cell_type": "code",
   "execution_count": 11,
   "id": "b1146e75",
   "metadata": {},
   "outputs": [],
   "source": [
    "from nltk.util import ngrams\n",
    "\n",
    "def extract_ngrams(text, ngram_range=(2, 3)):\n",
    "\ttokens = [token.lemma_ for token in nlp(text.lower()) if token.is_alpha and token.text not in stop_words]\n",
    "\tngram_list = []\n",
    "\tfor n in range(ngram_range[0], ngram_range[1] + 1):\n",
    "\t\tngram_list += [' '.join(gram) for gram in ngrams(tokens, n)]\n",
    "\treturn ngram_list\n",
    "\n",
    "# Extract keywords and n-grams\n",
    "df_reviews['keywords'] = df_reviews['review'].apply(lambda x: extract_keywords(x) + extract_ngrams(x))\n"
   ]
  },
  {
   "cell_type": "code",
   "execution_count": 14,
   "id": "51dbec6d",
   "metadata": {},
   "outputs": [
    {
     "name": "stdout",
     "output_type": "stream",
     "text": [
      "                              review_id  \\\n",
      "0  08d41b8d-c5f5-4ca9-9287-9ae8294cf0e6   \n",
      "1  747a0d8f-7f36-41ca-b377-f9f687ac2eec   \n",
      "2  64b198ae-91c6-40d4-ba3c-229f97e01c98   \n",
      "3  828c5fcd-f084-4e57-ad56-201735b8e413   \n",
      "4  46f43687-fa3d-434f-98c1-383d691a4223   \n",
      "\n",
      "                                              review  rating        date bank  \\\n",
      "0  \"Why don’t your ATMs support account-to-accoun...       4  2025-06-06  CBE   \n",
      "1                        what is this app problem???       1  2025-06-05  CBE   \n",
      "2       the app is proactive and a good connections.       5  2025-06-05  CBE   \n",
      "3    I cannot send to cbebirr app. through this app.       3  2025-06-05  CBE   \n",
      "4                                               good       4  2025-06-05  CBE   \n",
      "\n",
      "        source sentiment_label  sentiment_score  \\\n",
      "0  Google Play         NEUTRAL              0.0   \n",
      "1  Google Play         NEUTRAL              0.0   \n",
      "2  Google Play         NEUTRAL              0.0   \n",
      "3  Google Play         NEUTRAL              0.0   \n",
      "4  Google Play         NEUTRAL              0.0   \n",
      "\n",
      "                                            keywords  \n",
      "0  [atms, support, account, account, transfer, li...  \n",
      "1                        [app, problem, app problem]  \n",
      "2  [app, proactive, good, connection, app proacti...  \n",
      "3  [send, cbebirr, app, app, send cbebirr, cbebir...  \n",
      "4                                             [good]  \n"
     ]
    }
   ],
   "source": [
    "print(df_reviews.head())"
   ]
  },
  {
   "cell_type": "code",
   "execution_count": 12,
   "id": "c3ba9891",
   "metadata": {},
   "outputs": [],
   "source": [
    "\n",
    "# Define themes based on common keywords\n",
    "themes = {\n",
    "    'CBE':{\n",
    "        'Account Access Issues': ['login', 'pin', 'authentication', 'access'],\n",
    "        'Transaction Performance': ['transfer', 'slow', 'fast', 'payment'],\n",
    "        'Reliability': ['crash', 'freeze', 'bug', 'error'],\n",
    "        'User Interface': ['ui', 'interface', 'design', 'navigation'],\n",
    "        'Customer Support': ['support', 'help', 'response']\n",
    "    },\n",
    "    'BOA': {\n",
    "        'Account Access Issues': ['login', 'pin', 'face id', 'authentication'],\n",
    "        'Transaction Performance': ['transfer', 'slow', 'payment', 'et switch'],\n",
    "        'Reliability': ['crash', 'freeze', 'bug', 'error'],\n",
    "        'User Interface': ['ui', 'interface', 'logo', 'design'],\n",
    "        'Feature Requests': ['fingerprint', 'biometric', 'qr code']\n",
    "    },\n",
    "    'Dashen': {\n",
    "        'Account Access Issues': ['login', 'pin', 'authentication'],\n",
    "        'Transaction Performance': ['transfer', 'payment', 'fast'],\n",
    "        'Reliability': ['crash', 'error', 'bug'],\n",
    "        'User Interface': ['ui', 'interface', 'design'],\n",
    "        'Sharia Compliance': ['sharik', 'interest free']\n",
    "    }\n",
    "}\n"
   ]
  },
  {
   "cell_type": "code",
   "execution_count": 15,
   "id": "ab2aa126",
   "metadata": {},
   "outputs": [],
   "source": [
    "\n",
    "# Assign themes to reviews\n",
    "def assign_themes(keywords, bank):\n",
    "    assigned_themes = []\n",
    "    for theme, theme_keywords in themes[bank].items():\n",
    "        if any(kw in keywords for kw in theme_keywords):\n",
    "            assigned_themes.append(theme)\n",
    "    return assigned_themes if assigned_themes else ['Other']\n"
   ]
  },
  {
   "cell_type": "code",
   "execution_count": 16,
   "id": "bdbde2d8",
   "metadata": {},
   "outputs": [
    {
     "name": "stdout",
     "output_type": "stream",
     "text": [
      "Analyzed 1185 reviews and saved to data/analyzed_reviews.csv\n"
     ]
    }
   ],
   "source": [
    "\n",
    "df_reviews['themes'] = df_reviews.apply(lambda row: assign_themes(row['keywords'], row['bank']), axis=1)\n",
    "\n",
    "# Save results\n",
    "df_reviews.to_csv('data/analyzed_reviews.csv', index=False)\n",
    "\n",
    "print(f\"Analyzed {len(df_reviews)} reviews and saved to data/analyzed_reviews.csv\")"
   ]
  },
  {
   "cell_type": "code",
   "execution_count": null,
   "id": "f2ac0ff1",
   "metadata": {},
   "outputs": [],
   "source": []
  }
 ],
 "metadata": {
  "kernelspec": {
   "display_name": "Python 3",
   "language": "python",
   "name": "python3"
  },
  "language_info": {
   "codemirror_mode": {
    "name": "ipython",
    "version": 3
   },
   "file_extension": ".py",
   "mimetype": "text/x-python",
   "name": "python",
   "nbconvert_exporter": "python",
   "pygments_lexer": "ipython3",
   "version": "3.13.1"
  }
 },
 "nbformat": 4,
 "nbformat_minor": 5
}
