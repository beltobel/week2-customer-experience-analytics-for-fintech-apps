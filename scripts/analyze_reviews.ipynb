{
 "cells": [
  {
   "cell_type": "code",
   "execution_count": null,
   "id": "56c80673",
   "metadata": {},
   "outputs": [],
   "source": [
    "#sentiment and thematic analysis"
   ]
  },
  {
   "cell_type": "code",
   "execution_count": 1,
   "id": "856cd3d1",
   "metadata": {},
   "outputs": [
    {
     "name": "stdout",
     "output_type": "stream",
     "text": [
      "Defaulting to user installation because normal site-packages is not writeable\n",
      "Collecting schedule\n",
      "  Using cached schedule-1.2.2-py3-none-any.whl.metadata (3.8 kB)\n",
      "Using cached schedule-1.2.2-py3-none-any.whl (12 kB)\n",
      "Installing collected packages: schedule\n",
      "Successfully installed schedule-1.2.2\n",
      "Note: you may need to restart the kernel to use updated packages.\n"
     ]
    },
    {
     "name": "stderr",
     "output_type": "stream",
     "text": [
      "\n",
      "[notice] A new release of pip is available: 24.3.1 -> 25.1.1\n",
      "[notice] To update, run: python.exe -m pip install --upgrade pip\n"
     ]
    }
   ],
   "source": [
    "%pip install schedule"
   ]
  },
  {
   "cell_type": "code",
   "execution_count": 4,
   "id": "923b5eb5",
   "metadata": {},
   "outputs": [],
   "source": [
    "from google_play_scraper import Sort, reviews\n",
    "import csv\n",
    "from datetime import datetime\n",
    "import schedule\n",
    "import logging\n",
    "import time"
   ]
  },
  {
   "cell_type": "code",
   "execution_count": 3,
   "id": "3e599c03",
   "metadata": {},
   "outputs": [
    {
     "ename": "KeyboardInterrupt",
     "evalue": "",
     "output_type": "error",
     "traceback": [
      "\u001b[1;31m---------------------------------------------------------------------------\u001b[0m",
      "\u001b[1;31mKeyboardInterrupt\u001b[0m                         Traceback (most recent call last)",
      "Cell \u001b[1;32mIn[3], line 47\u001b[0m\n\u001b[0;32m     45\u001b[0m \u001b[38;5;28;01mwhile\u001b[39;00m \u001b[38;5;28;01mTrue\u001b[39;00m:\n\u001b[0;32m     46\u001b[0m     schedule\u001b[38;5;241m.\u001b[39mrun_pending()\n\u001b[1;32m---> 47\u001b[0m     \u001b[43mtime\u001b[49m\u001b[38;5;241;43m.\u001b[39;49m\u001b[43msleep\u001b[49m\u001b[43m(\u001b[49m\u001b[38;5;241;43m1\u001b[39;49m\u001b[43m)\u001b[49m\n",
      "\u001b[1;31mKeyboardInterrupt\u001b[0m: "
     ]
    }
   ],
   "source": [
    "\n",
    "\n",
    "# Set up logging\n",
    "logging.basicConfig(filename='scraper.log', level=logging.INFO, format='%(asctime)s - %(levelname)s - %(message)s')\n",
    "\n",
    "def scrape_play_store_reviews():\n",
    "    APP_ID = 'com.dashen.dashensuperapp'\n",
    "    logging.info(\"🔄 Fetching reviews...\")\n",
    "\n",
    "    try:\n",
    "        results, _ = reviews(\n",
    "            APP_ID,\n",
    "            lang='en',\n",
    "            country='us',\n",
    "            sort=Sort.NEWEST,\n",
    "            count=5000,\n",
    "            filter_score_with=None\n",
    "        )\n",
    "\n",
    "        timestamp = datetime.now().strftime('%Y%m%d_%H%M%S')\n",
    "        filename = f'Dashen_reviews_{timestamp}.csv'\n",
    "\n",
    "        # Write to CSV without using pandas\n",
    "        with open(filename, mode='w', newline='', encoding='utf-8') as file:\n",
    "            writer = csv.DictWriter(file, fieldnames=['review_text', 'rating', 'date', 'bank_name', 'source'])\n",
    "            writer.writeheader()\n",
    "\n",
    "            for entry in results:\n",
    "                writer.writerow({\n",
    "                    'review_text': entry['content'],\n",
    "                    'rating': entry['score'],\n",
    "                    'date': entry['at'].strftime('%Y-%m-%d'),\n",
    "                    'bank_name': 'Commercial Bank of Ethiopia',\n",
    "                    'source': 'Google Play'\n",
    "                })\n",
    "\n",
    "        logging.info(f\"✅ Saved {len(results)} reviews to {filename}\")\n",
    "    except Exception as e:\n",
    "        logging.error(f\"Error occurred: {e}\")\n",
    "\n",
    "# Different scheduling options (uncomment the one you want to use):\n",
    "schedule.every().day.at(\"01:00\").do(scrape_play_store_reviews)  # Daily at 1 AM\n",
    "# schedule.every(6).hours.do(scrape_play_store_reviews)           # Every 6 hours\n",
    "# schedule.every().monday.do(scrape_play_store_reviews)           # Every Monday\n",
    "# schedule.every().hour.do(scrape_play_store_reviews)             # Every hour\n",
    "\n",
    "while True:\n",
    "    schedule.run_pending()\n",
    "    time.sleep(1)"
   ]
  },
  {
   "cell_type": "code",
   "execution_count": null,
   "id": "1af4f103",
   "metadata": {},
   "outputs": [],
   "source": []
  }
 ],
 "metadata": {
  "kernelspec": {
   "display_name": "Python 3",
   "language": "python",
   "name": "python3"
  },
  "language_info": {
   "codemirror_mode": {
    "name": "ipython",
    "version": 3
   },
   "file_extension": ".py",
   "mimetype": "text/x-python",
   "name": "python",
   "nbconvert_exporter": "python",
   "pygments_lexer": "ipython3",
   "version": "3.13.1"
  }
 },
 "nbformat": 4,
 "nbformat_minor": 5
}
