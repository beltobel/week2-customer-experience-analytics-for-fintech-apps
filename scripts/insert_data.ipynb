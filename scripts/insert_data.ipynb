{
 "cells": [
  {
   "cell_type": "code",
   "execution_count": null,
   "id": "8acb4060",
   "metadata": {},
   "outputs": [],
   "source": [
    "#database insertion into Oracle"
   ]
  }
 ],
 "metadata": {
  "language_info": {
   "name": "python"
  }
 },
 "nbformat": 4,
 "nbformat_minor": 5
}
