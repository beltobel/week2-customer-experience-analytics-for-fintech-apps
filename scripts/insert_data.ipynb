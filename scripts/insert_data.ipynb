{
 "cells": [
  {
   "cell_type": "code",
   "execution_count": null,
   "id": "8acb4060",
   "metadata": {},
   "outputs": [],
   "source": [
    "#database insertion into Oracle\n",
    "import pandas as pd\n",
    "import oracledb\n",
    "import json\n"
   ]
  },
  {
   "cell_type": "code",
   "execution_count": null,
   "id": "6884f59d",
   "metadata": {},
   "outputs": [],
   "source": [
    "\n",
    "# Database connection\n",
    "connection = oracledb.connect(\n",
    "    user=\"your_username\",\n",
    "    password=\"your_password\",\n",
    "    dsn=\"localhost:1521/XE\"\n",
    ")\n"
   ]
  },
  {
   "cell_type": "code",
   "execution_count": null,
   "id": "a7da3727",
   "metadata": {},
   "outputs": [],
   "source": [
    "\n",
    "cursor = connection.cursor()\n"
   ]
  },
  {
   "cell_type": "code",
   "execution_count": null,
   "id": "62497151",
   "metadata": {},
   "outputs": [],
   "source": [
    "\n",
    "# Load analyzed reviews\n",
    "df_reviews = pd.read_csv('data/analyzed_reviews.csv')\n"
   ]
  },
  {
   "cell_type": "code",
   "execution_count": null,
   "id": "126a8ce7",
   "metadata": {},
   "outputs": [],
   "source": [
    "\n",
    "# Insert reviews\n",
    "for _, row in df_reviews.iterrows():\n",
    "    themes_str = ','.join(row['themes']) if isinstance(row['themes'], list) else row['themes']\n",
    "    cursor.execute(\"\"\"\n",
    "        INSERT INTO Reviews (review_id, bank_id, review_text, rating, review_date, source, sentiment_label, sentiment_score, themes)\n",
    "        VALUES (:1, :2, :3, :4, TO_DATE(:5, 'YYYY-MM-DD'), :6, :7, :8, :9)\n",
    "    \"\"\", (\n",
    "        row['review_id'],\n",
    "        {'CBE': 'b1', 'BOA': 'b2', 'Dashen': 'b3'}[row['bank']],\n",
    "        row['review'],\n",
    "        row['rating'],\n",
    "        row['date'],\n",
    "        row['source'],\n",
    "        row['sentiment_label'],\n",
    "        row['sentiment_score'],\n",
    "        themes_str\n",
    "    ))\n"
   ]
  },
  {
   "cell_type": "code",
   "execution_count": null,
   "id": "9d04182c",
   "metadata": {},
   "outputs": [],
   "source": [
    "\n",
    "connection.commit()\n",
    "cursor.close()\n",
    "connection.close()\n",
    "\n",
    "print(f\"Inserted {len(df_reviews)} reviews into Oracle database\")"
   ]
  }
 ],
 "metadata": {
  "language_info": {
   "name": "python"
  }
 },
 "nbformat": 4,
 "nbformat_minor": 5
}
