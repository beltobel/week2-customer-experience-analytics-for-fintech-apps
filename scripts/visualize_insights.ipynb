{
 "cells": [
  {
   "cell_type": "code",
   "execution_count": null,
   "id": "c612b62c",
   "metadata": {},
   "outputs": [],
   "source": [
    "#Generates visualizations"
   ]
  }
 ],
 "metadata": {
  "language_info": {
   "name": "python"
  }
 },
 "nbformat": 4,
 "nbformat_minor": 5
}
