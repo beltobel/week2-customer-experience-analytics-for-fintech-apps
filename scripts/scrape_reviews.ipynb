{
 "cells": [
  {
   "cell_type": "code",
   "execution_count": 3,
   "id": "0fa21cd2",
   "metadata": {},
   "outputs": [
    {
     "name": "stdout",
     "output_type": "stream",
     "text": [
      "Defaulting to user installation because normal site-packages is not writeableNote: you may need to restart the kernel to use updated packages.\n"
     ]
    },
    {
     "name": "stderr",
     "output_type": "stream",
     "text": [
      "\n",
      "[notice] A new release of pip is available: 24.3.1 -> 25.1.1\n",
      "[notice] To update, run: python.exe -m pip install --upgrade pip\n"
     ]
    },
    {
     "name": "stdout",
     "output_type": "stream",
     "text": [
      "\n",
      "Collecting google-play-scraper\n",
      "  Using cached google_play_scraper-1.2.7-py3-none-any.whl.metadata (50 kB)\n",
      "Using cached google_play_scraper-1.2.7-py3-none-any.whl (28 kB)\n",
      "Installing collected packages: google-play-scraper\n",
      "Successfully installed google-play-scraper-1.2.7\n"
     ]
    }
   ],
   "source": [
    "%pip install google-play-scraper"
   ]
  },
  {
   "cell_type": "code",
   "execution_count": 24,
   "id": "1a320f5c",
   "metadata": {},
   "outputs": [],
   "source": [
    "import pandas as pd\n",
    "from google_play_scraper import Sort, reviews\n",
    "from datetime import datetime\n",
    "import time\n",
    "import os\n",
    "import uuid\n"
   ]
  },
  {
   "cell_type": "code",
   "execution_count": 38,
   "id": "09983fb6",
   "metadata": {},
   "outputs": [],
   "source": [
    "# Define app IDs for the three banks\n",
    "apps = {\n",
    "    'CBE': 'com.combanketh.mobilebanking',\n",
    "    'BOA': 'com.boa.boaMobileBanking',\n",
    "    'Dashen': 'com.dashen.dashensuperapp'\n",
    "}"
   ]
  },
  {
   "cell_type": "code",
   "execution_count": 39,
   "id": "306fb0ff",
   "metadata": {},
   "outputs": [],
   "source": [
    "# Function to scrape reviews\n",
    "def scrape_reviews(app_id, bank_name, count=400):\n",
    "    result, _ = reviews(\n",
    "        app_id,\n",
    "        lang='en',\n",
    "        country='et',\n",
    "        sort=Sort.NEWEST,\n",
    "        count=count\n",
    "    )\n",
    "    data = []\n",
    "    for review in result:\n",
    "        data.append({\n",
    "            'review_id': str(uuid.uuid4()),\n",
    "            'review': review['content'],\n",
    "            'rating': review['score'],\n",
    "            'date': review['at'].strftime('%Y-%m-%d'),\n",
    "            'bank': bank_name,\n",
    "            'source': 'Google Play'\n",
    "        })\n",
    "    return pd.DataFrame(data)  # <-- Unindented"
   ]
  },
  {
   "cell_type": "code",
   "execution_count": 40,
   "id": "4dc0ed34",
   "metadata": {},
   "outputs": [],
   "source": [
    "# Scrape and combine reviews\n",
    "all_reviews = []\n",
    "for bank, app_id in apps.items():\n",
    "    df = scrape_reviews(app_id, bank)\n",
    "    all_reviews.append(df)"
   ]
  },
  {
   "cell_type": "code",
   "execution_count": 41,
   "id": "65a2b3d4",
   "metadata": {},
   "outputs": [
    {
     "name": "stdout",
     "output_type": "stream",
     "text": [
      "[                                review_id  \\\n",
      "0    08d41b8d-c5f5-4ca9-9287-9ae8294cf0e6   \n",
      "1    747a0d8f-7f36-41ca-b377-f9f687ac2eec   \n",
      "2    64b198ae-91c6-40d4-ba3c-229f97e01c98   \n",
      "3    828c5fcd-f084-4e57-ad56-201735b8e413   \n",
      "4    46f43687-fa3d-434f-98c1-383d691a4223   \n",
      "..                                    ...   \n",
      "395  60646230-7648-41ac-a1fa-097df01c20f8   \n",
      "396  495355a0-2937-4c92-bc67-239cb1270186   \n",
      "397  05a49191-0c52-4d6f-953a-205ceb055dd1   \n",
      "398  ea28263b-f488-4c99-bbde-ce820ee36cc3   \n",
      "399  2ee6fbc2-cf0b-4aea-a82e-da3f1a5170d6   \n",
      "\n",
      "                                                review  rating        date  \\\n",
      "0    \"Why don’t your ATMs support account-to-accoun...       4  2025-06-06   \n",
      "1                          what is this app problem???       1  2025-06-05   \n",
      "2         the app is proactive and a good connections.       5  2025-06-05   \n",
      "3      I cannot send to cbebirr app. through this app.       3  2025-06-05   \n",
      "4                                                 good       4  2025-06-05   \n",
      "..                                                 ...     ...         ...   \n",
      "395                             ጥሩ ነው አንዳንዴ ስታክ ቢያደርግም       4  2025-03-31   \n",
      "396                                 CBE very good apps       5  2025-03-31   \n",
      "397  This application fast, secure and more conveni...       5  2025-03-31   \n",
      "398                                           best app       5  2025-03-31   \n",
      "399                                  excellent service       5  2025-03-31   \n",
      "\n",
      "    bank       source  \n",
      "0    CBE  Google Play  \n",
      "1    CBE  Google Play  \n",
      "2    CBE  Google Play  \n",
      "3    CBE  Google Play  \n",
      "4    CBE  Google Play  \n",
      "..   ...          ...  \n",
      "395  CBE  Google Play  \n",
      "396  CBE  Google Play  \n",
      "397  CBE  Google Play  \n",
      "398  CBE  Google Play  \n",
      "399  CBE  Google Play  \n",
      "\n",
      "[400 rows x 6 columns],                                 review_id  \\\n",
      "0    604ccf20-0fa3-47a3-bfb9-89718980b156   \n",
      "1    729925a5-e8ff-4ae2-b1e0-7270cca1bce7   \n",
      "2    782633d0-5926-4b06-bc61-56e0ed7cd56e   \n",
      "3    1019ab97-ed52-40b8-9459-15d3b547b932   \n",
      "4    c36c67ee-c114-4542-b884-3aec47ebf6ba   \n",
      "..                                    ...   \n",
      "395  3a833890-275d-49f8-a5fd-2a48161180d2   \n",
      "396  8a91f499-0321-47d9-820a-5ded79ba0a41   \n",
      "397  f0cb365e-0867-4c6f-af93-cc08d87af404   \n",
      "398  376a6fe4-bd9e-4a8e-9885-2a90ae41ac19   \n",
      "399  92072382-fe8f-450a-9763-491347080007   \n",
      "\n",
      "                                                review  rating        date  \\\n",
      "0                                     it's not working       3  2025-06-05   \n",
      "1    Hello, I’m facing a problem with the BOA Mobil...       1  2025-06-03   \n",
      "2                                          exceptional       5  2025-06-03   \n",
      "3                                 BoA Mobile good bank       5  2025-06-02   \n",
      "4                      this is worest app 24/7 loading       1  2025-06-01   \n",
      "..                                                 ...     ...         ...   \n",
      "395                                                mal       5  2024-07-16   \n",
      "396                           It is not working at all       1  2024-07-16   \n",
      "397                                          Excellent       5  2024-07-16   \n",
      "398  The poorest mobile banking survice ever. Only ...       1  2024-07-16   \n",
      "399                                                Wow       5  2024-07-16   \n",
      "\n",
      "    bank       source  \n",
      "0    BOA  Google Play  \n",
      "1    BOA  Google Play  \n",
      "2    BOA  Google Play  \n",
      "3    BOA  Google Play  \n",
      "4    BOA  Google Play  \n",
      "..   ...          ...  \n",
      "395  BOA  Google Play  \n",
      "396  BOA  Google Play  \n",
      "397  BOA  Google Play  \n",
      "398  BOA  Google Play  \n",
      "399  BOA  Google Play  \n",
      "\n",
      "[400 rows x 6 columns],                                 review_id  \\\n",
      "0    2a1081f6-1a8b-4d7b-a8df-6051ae97d6ae   \n",
      "1    6bf133a1-9c89-44df-a25c-f336b30fab2a   \n",
      "2    652e8e98-448f-4b0a-b3f0-e4afdefcb59c   \n",
      "3    740120e5-1738-4595-b488-e115bd8f352a   \n",
      "4    680780a1-549d-416c-a01e-20a7ddb06139   \n",
      "..                                    ...   \n",
      "395  121f30ef-0f05-4695-a424-5b2ffbdf1483   \n",
      "396  dea35742-2646-4ac9-98c0-c4fa4c509da9   \n",
      "397  d5a42e90-cd0f-4276-b8f8-d17b6a5d9eb1   \n",
      "398  4818ccd5-f8fa-44d0-a9b7-adcd7ad55d28   \n",
      "399  58f9de7f-6855-4e78-aa65-e7a01ff565a9   \n",
      "\n",
      "                                                review  rating        date  \\\n",
      "0                                                 love       3  2025-06-06   \n",
      "1                                                 መቸሸጠ       5  2025-06-03   \n",
      "2                                                  wow       5  2025-06-03   \n",
      "3                                                gadaa       5  2025-06-01   \n",
      "4                  Massive upgrade from the Amole app.       5  2025-05-31   \n",
      "..                                                 ...     ...         ...   \n",
      "395  It has a Good performance but need more upgrad...       4  2025-01-17   \n",
      "396  It is a very wonderful work that has saved its...       5  2025-01-17   \n",
      "397  “Life-changing!” I can’t imagine going back to...       5  2025-01-17   \n",
      "398                                            Pro max       5  2025-01-17   \n",
      "399                         The most good app and easy       5  2025-01-16   \n",
      "\n",
      "       bank       source  \n",
      "0    Dashen  Google Play  \n",
      "1    Dashen  Google Play  \n",
      "2    Dashen  Google Play  \n",
      "3    Dashen  Google Play  \n",
      "4    Dashen  Google Play  \n",
      "..      ...          ...  \n",
      "395  Dashen  Google Play  \n",
      "396  Dashen  Google Play  \n",
      "397  Dashen  Google Play  \n",
      "398  Dashen  Google Play  \n",
      "399  Dashen  Google Play  \n",
      "\n",
      "[400 rows x 6 columns]]\n"
     ]
    }
   ],
   "source": [
    "print(all_reviews)"
   ]
  },
  {
   "cell_type": "code",
   "execution_count": 42,
   "id": "c92a91ae",
   "metadata": {},
   "outputs": [],
   "source": [
    "# Combine into a single DataFrame\n",
    "df_reviews = pd.concat(all_reviews, ignore_index=True)"
   ]
  },
  {
   "cell_type": "code",
   "execution_count": 43,
   "id": "fcb5cfba",
   "metadata": {},
   "outputs": [
    {
     "name": "stdout",
     "output_type": "stream",
     "text": [
      "                                 review_id  \\\n",
      "0     08d41b8d-c5f5-4ca9-9287-9ae8294cf0e6   \n",
      "1     747a0d8f-7f36-41ca-b377-f9f687ac2eec   \n",
      "2     64b198ae-91c6-40d4-ba3c-229f97e01c98   \n",
      "3     828c5fcd-f084-4e57-ad56-201735b8e413   \n",
      "4     46f43687-fa3d-434f-98c1-383d691a4223   \n",
      "...                                    ...   \n",
      "1195  121f30ef-0f05-4695-a424-5b2ffbdf1483   \n",
      "1196  dea35742-2646-4ac9-98c0-c4fa4c509da9   \n",
      "1197  d5a42e90-cd0f-4276-b8f8-d17b6a5d9eb1   \n",
      "1198  4818ccd5-f8fa-44d0-a9b7-adcd7ad55d28   \n",
      "1199  58f9de7f-6855-4e78-aa65-e7a01ff565a9   \n",
      "\n",
      "                                                 review  rating        date  \\\n",
      "0     \"Why don’t your ATMs support account-to-accoun...       4  2025-06-06   \n",
      "1                           what is this app problem???       1  2025-06-05   \n",
      "2          the app is proactive and a good connections.       5  2025-06-05   \n",
      "3       I cannot send to cbebirr app. through this app.       3  2025-06-05   \n",
      "4                                                  good       4  2025-06-05   \n",
      "...                                                 ...     ...         ...   \n",
      "1195  It has a Good performance but need more upgrad...       4  2025-01-17   \n",
      "1196  It is a very wonderful work that has saved its...       5  2025-01-17   \n",
      "1197  “Life-changing!” I can’t imagine going back to...       5  2025-01-17   \n",
      "1198                                            Pro max       5  2025-01-17   \n",
      "1199                         The most good app and easy       5  2025-01-16   \n",
      "\n",
      "        bank       source  \n",
      "0        CBE  Google Play  \n",
      "1        CBE  Google Play  \n",
      "2        CBE  Google Play  \n",
      "3        CBE  Google Play  \n",
      "4        CBE  Google Play  \n",
      "...      ...          ...  \n",
      "1195  Dashen  Google Play  \n",
      "1196  Dashen  Google Play  \n",
      "1197  Dashen  Google Play  \n",
      "1198  Dashen  Google Play  \n",
      "1199  Dashen  Google Play  \n",
      "\n",
      "[1200 rows x 6 columns]\n"
     ]
    }
   ],
   "source": [
    "print(df_reviews)"
   ]
  },
  {
   "cell_type": "code",
   "execution_count": 44,
   "id": "cef4f531",
   "metadata": {},
   "outputs": [],
   "source": [
    "# Preprocessing\n",
    "# Remove duplicates\n",
    "df_reviews = df_reviews.drop_duplicates(subset=['review', 'date', 'bank'])"
   ]
  },
  {
   "cell_type": "code",
   "execution_count": 45,
   "id": "a0dbf0d2",
   "metadata": {},
   "outputs": [
    {
     "name": "stdout",
     "output_type": "stream",
     "text": [
      "                                 review_id  \\\n",
      "0     08d41b8d-c5f5-4ca9-9287-9ae8294cf0e6   \n",
      "1     747a0d8f-7f36-41ca-b377-f9f687ac2eec   \n",
      "2     64b198ae-91c6-40d4-ba3c-229f97e01c98   \n",
      "3     828c5fcd-f084-4e57-ad56-201735b8e413   \n",
      "4     46f43687-fa3d-434f-98c1-383d691a4223   \n",
      "...                                    ...   \n",
      "1195  121f30ef-0f05-4695-a424-5b2ffbdf1483   \n",
      "1196  dea35742-2646-4ac9-98c0-c4fa4c509da9   \n",
      "1197  d5a42e90-cd0f-4276-b8f8-d17b6a5d9eb1   \n",
      "1198  4818ccd5-f8fa-44d0-a9b7-adcd7ad55d28   \n",
      "1199  58f9de7f-6855-4e78-aa65-e7a01ff565a9   \n",
      "\n",
      "                                                 review  rating        date  \\\n",
      "0     \"Why don’t your ATMs support account-to-accoun...       4  2025-06-06   \n",
      "1                           what is this app problem???       1  2025-06-05   \n",
      "2          the app is proactive and a good connections.       5  2025-06-05   \n",
      "3       I cannot send to cbebirr app. through this app.       3  2025-06-05   \n",
      "4                                                  good       4  2025-06-05   \n",
      "...                                                 ...     ...         ...   \n",
      "1195  It has a Good performance but need more upgrad...       4  2025-01-17   \n",
      "1196  It is a very wonderful work that has saved its...       5  2025-01-17   \n",
      "1197  “Life-changing!” I can’t imagine going back to...       5  2025-01-17   \n",
      "1198                                            Pro max       5  2025-01-17   \n",
      "1199                         The most good app and easy       5  2025-01-16   \n",
      "\n",
      "        bank       source  \n",
      "0        CBE  Google Play  \n",
      "1        CBE  Google Play  \n",
      "2        CBE  Google Play  \n",
      "3        CBE  Google Play  \n",
      "4        CBE  Google Play  \n",
      "...      ...          ...  \n",
      "1195  Dashen  Google Play  \n",
      "1196  Dashen  Google Play  \n",
      "1197  Dashen  Google Play  \n",
      "1198  Dashen  Google Play  \n",
      "1199  Dashen  Google Play  \n",
      "\n",
      "[1185 rows x 6 columns]\n"
     ]
    }
   ],
   "source": [
    "print(df_reviews)"
   ]
  },
  {
   "cell_type": "code",
   "execution_count": 46,
   "id": "edb0b0b7",
   "metadata": {},
   "outputs": [],
   "source": [
    "# Handle missing data\n",
    "if 'review' in df_reviews.columns:\n",
    "    df_reviews['review'] = df_reviews['review'].fillna('No review text')\n",
    "if 'rating' in df_reviews.columns:\n",
    "    df_reviews['rating'] = df_reviews['rating'].fillna(0).astype(int)"
   ]
  },
  {
   "cell_type": "code",
   "execution_count": 47,
   "id": "10a16194",
   "metadata": {},
   "outputs": [
    {
     "name": "stdout",
     "output_type": "stream",
     "text": [
      "                                 review_id  \\\n",
      "0     08d41b8d-c5f5-4ca9-9287-9ae8294cf0e6   \n",
      "1     747a0d8f-7f36-41ca-b377-f9f687ac2eec   \n",
      "2     64b198ae-91c6-40d4-ba3c-229f97e01c98   \n",
      "3     828c5fcd-f084-4e57-ad56-201735b8e413   \n",
      "4     46f43687-fa3d-434f-98c1-383d691a4223   \n",
      "...                                    ...   \n",
      "1195  121f30ef-0f05-4695-a424-5b2ffbdf1483   \n",
      "1196  dea35742-2646-4ac9-98c0-c4fa4c509da9   \n",
      "1197  d5a42e90-cd0f-4276-b8f8-d17b6a5d9eb1   \n",
      "1198  4818ccd5-f8fa-44d0-a9b7-adcd7ad55d28   \n",
      "1199  58f9de7f-6855-4e78-aa65-e7a01ff565a9   \n",
      "\n",
      "                                                 review  rating        date  \\\n",
      "0     \"Why don’t your ATMs support account-to-accoun...       4  2025-06-06   \n",
      "1                           what is this app problem???       1  2025-06-05   \n",
      "2          the app is proactive and a good connections.       5  2025-06-05   \n",
      "3       I cannot send to cbebirr app. through this app.       3  2025-06-05   \n",
      "4                                                  good       4  2025-06-05   \n",
      "...                                                 ...     ...         ...   \n",
      "1195  It has a Good performance but need more upgrad...       4  2025-01-17   \n",
      "1196  It is a very wonderful work that has saved its...       5  2025-01-17   \n",
      "1197  “Life-changing!” I can’t imagine going back to...       5  2025-01-17   \n",
      "1198                                            Pro max       5  2025-01-17   \n",
      "1199                         The most good app and easy       5  2025-01-16   \n",
      "\n",
      "        bank       source  \n",
      "0        CBE  Google Play  \n",
      "1        CBE  Google Play  \n",
      "2        CBE  Google Play  \n",
      "3        CBE  Google Play  \n",
      "4        CBE  Google Play  \n",
      "...      ...          ...  \n",
      "1195  Dashen  Google Play  \n",
      "1196  Dashen  Google Play  \n",
      "1197  Dashen  Google Play  \n",
      "1198  Dashen  Google Play  \n",
      "1199  Dashen  Google Play  \n",
      "\n",
      "[1185 rows x 6 columns]\n"
     ]
    }
   ],
   "source": [
    "print(df_reviews)"
   ]
  },
  {
   "cell_type": "code",
   "execution_count": 49,
   "id": "d6e59c21",
   "metadata": {},
   "outputs": [],
   "source": [
    "# Ensure date format\n",
    "if 'date' in df_reviews.columns:\n",
    "    df_reviews['date'] = pd.to_datetime(df_reviews['date'], errors='coerce').dt.strftime('%Y-%m-%d')"
   ]
  },
  {
   "cell_type": "code",
   "execution_count": null,
   "id": "c64215e5",
   "metadata": {},
   "outputs": [],
   "source": [
    "# Save to CSV\n",
    "output_dir = 'data'\n",
    "os.makedirs(output_dir, exist_ok=True)\n",
    "df_reviews.to_csv(os.path.join(output_dir, 'bank_reviews.csv'), index=False)\n",
    "\n",
    "print(f\"Saved {len(df_reviews)} reviews to data/bank_reviews.csv\")"
   ]
  },
  {
   "cell_type": "code",
   "execution_count": 57,
   "id": "6d47e032",
   "metadata": {
    "vscode": {
     "languageId": "ruby"
    }
   },
   "outputs": [
    {
     "name": "stdout",
     "output_type": "stream",
     "text": [
      "Saved 387 reviews to data\\cbe_reviews.csv\n",
      "Saved 399 reviews to data\\boa_reviews.csv\n",
      "Saved 399 reviews to data\\dashen_reviews.csv\n"
     ]
    },
    {
     "name": "stderr",
     "output_type": "stream",
     "text": [
      "C:\\Users\\belet\\AppData\\Local\\Temp\\ipykernel_15204\\192852841.py:7: SettingWithCopyWarning: \n",
      "A value is trying to be set on a copy of a slice from a DataFrame.\n",
      "Try using .loc[row_indexer,col_indexer] = value instead\n",
      "\n",
      "See the caveats in the documentation: https://pandas.pydata.org/pandas-docs/stable/user_guide/indexing.html#returning-a-view-versus-a-copy\n",
      "  df_bank['review'] = df_bank['review'].fillna('No review text')\n",
      "C:\\Users\\belet\\AppData\\Local\\Temp\\ipykernel_15204\\192852841.py:9: SettingWithCopyWarning: \n",
      "A value is trying to be set on a copy of a slice from a DataFrame.\n",
      "Try using .loc[row_indexer,col_indexer] = value instead\n",
      "\n",
      "See the caveats in the documentation: https://pandas.pydata.org/pandas-docs/stable/user_guide/indexing.html#returning-a-view-versus-a-copy\n",
      "  df_bank['rating'] = df_bank['rating'].fillna(0).astype(int)\n",
      "C:\\Users\\belet\\AppData\\Local\\Temp\\ipykernel_15204\\192852841.py:12: SettingWithCopyWarning: \n",
      "A value is trying to be set on a copy of a slice from a DataFrame.\n",
      "Try using .loc[row_indexer,col_indexer] = value instead\n",
      "\n",
      "See the caveats in the documentation: https://pandas.pydata.org/pandas-docs/stable/user_guide/indexing.html#returning-a-view-versus-a-copy\n",
      "  df_bank['date'] = pd.to_datetime(df_bank['date'], errors='coerce').dt.strftime('%Y-%m-%d')\n",
      "C:\\Users\\belet\\AppData\\Local\\Temp\\ipykernel_15204\\192852841.py:7: SettingWithCopyWarning: \n",
      "A value is trying to be set on a copy of a slice from a DataFrame.\n",
      "Try using .loc[row_indexer,col_indexer] = value instead\n",
      "\n",
      "See the caveats in the documentation: https://pandas.pydata.org/pandas-docs/stable/user_guide/indexing.html#returning-a-view-versus-a-copy\n",
      "  df_bank['review'] = df_bank['review'].fillna('No review text')\n",
      "C:\\Users\\belet\\AppData\\Local\\Temp\\ipykernel_15204\\192852841.py:9: SettingWithCopyWarning: \n",
      "A value is trying to be set on a copy of a slice from a DataFrame.\n",
      "Try using .loc[row_indexer,col_indexer] = value instead\n",
      "\n",
      "See the caveats in the documentation: https://pandas.pydata.org/pandas-docs/stable/user_guide/indexing.html#returning-a-view-versus-a-copy\n",
      "  df_bank['rating'] = df_bank['rating'].fillna(0).astype(int)\n",
      "C:\\Users\\belet\\AppData\\Local\\Temp\\ipykernel_15204\\192852841.py:12: SettingWithCopyWarning: \n",
      "A value is trying to be set on a copy of a slice from a DataFrame.\n",
      "Try using .loc[row_indexer,col_indexer] = value instead\n",
      "\n",
      "See the caveats in the documentation: https://pandas.pydata.org/pandas-docs/stable/user_guide/indexing.html#returning-a-view-versus-a-copy\n",
      "  df_bank['date'] = pd.to_datetime(df_bank['date'], errors='coerce').dt.strftime('%Y-%m-%d')\n",
      "C:\\Users\\belet\\AppData\\Local\\Temp\\ipykernel_15204\\192852841.py:7: SettingWithCopyWarning: \n",
      "A value is trying to be set on a copy of a slice from a DataFrame.\n",
      "Try using .loc[row_indexer,col_indexer] = value instead\n",
      "\n",
      "See the caveats in the documentation: https://pandas.pydata.org/pandas-docs/stable/user_guide/indexing.html#returning-a-view-versus-a-copy\n",
      "  df_bank['review'] = df_bank['review'].fillna('No review text')\n",
      "C:\\Users\\belet\\AppData\\Local\\Temp\\ipykernel_15204\\192852841.py:9: SettingWithCopyWarning: \n",
      "A value is trying to be set on a copy of a slice from a DataFrame.\n",
      "Try using .loc[row_indexer,col_indexer] = value instead\n",
      "\n",
      "See the caveats in the documentation: https://pandas.pydata.org/pandas-docs/stable/user_guide/indexing.html#returning-a-view-versus-a-copy\n",
      "  df_bank['rating'] = df_bank['rating'].fillna(0).astype(int)\n",
      "C:\\Users\\belet\\AppData\\Local\\Temp\\ipykernel_15204\\192852841.py:12: SettingWithCopyWarning: \n",
      "A value is trying to be set on a copy of a slice from a DataFrame.\n",
      "Try using .loc[row_indexer,col_indexer] = value instead\n",
      "\n",
      "See the caveats in the documentation: https://pandas.pydata.org/pandas-docs/stable/user_guide/indexing.html#returning-a-view-versus-a-copy\n",
      "  df_bank['date'] = pd.to_datetime(df_bank['date'], errors='coerce').dt.strftime('%Y-%m-%d')\n"
     ]
    }
   ],
   "source": [
    "# Preprocess each bank's reviews before saving\n",
    "for bank, df_bank in zip(apps.keys(), all_reviews):\n",
    "  # Remove duplicates\n",
    "  df_bank = df_bank.drop_duplicates(subset=['review', 'date', 'bank'])\n",
    "  # Handle missing data\n",
    "  if 'review' in df_bank.columns:\n",
    "    df_bank['review'] = df_bank['review'].fillna('No review text')\n",
    "  if 'rating' in df_bank.columns:\n",
    "    df_bank['rating'] = df_bank['rating'].fillna(0).astype(int)\n",
    "  # Ensure date format\n",
    "  if 'date' in df_bank.columns:\n",
    "    df_bank['date'] = pd.to_datetime(df_bank['date'], errors='coerce').dt.strftime('%Y-%m-%d')\n",
    "  filename = f\"{bank.lower()}_reviews.csv\"\n",
    "  df_bank.to_csv(os.path.join(output_dir, filename), index=False)\n",
    "  print(f\"Saved {len(df_bank)} reviews to {os.path.join(output_dir, filename)}\")"
   ]
  },
  {
   "cell_type": "code",
   "execution_count": null,
   "id": "d21ab187",
   "metadata": {},
   "outputs": [],
   "source": []
  }
 ],
 "metadata": {
  "kernelspec": {
   "display_name": "Python 3",
   "language": "python",
   "name": "python3"
  },
  "language_info": {
   "codemirror_mode": {
    "name": "ipython",
    "version": 3
   },
   "file_extension": ".py",
   "mimetype": "text/x-python",
   "name": "python",
   "nbconvert_exporter": "python",
   "pygments_lexer": "ipython3",
   "version": "3.13.1"
  }
 },
 "nbformat": 4,
 "nbformat_minor": 5
}
